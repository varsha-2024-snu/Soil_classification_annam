{
  "nbformat": 4,
  "nbformat_minor": 0,
  "metadata": {
    "colab": {
      "provenance": []
    },
    "kernelspec": {
      "name": "python3",
      "display_name": "Python 3"
    },
    "language_info": {
      "name": "python"
    }
  },
  "cells": [
    {
      "cell_type": "markdown",
      "source": [
        "# 🏷️ Soil Image Classification with Autoencoder (Anomaly Detection)\n",
        "\n",
        "## 📌 Overview\n",
        "This project tackles soil image classification using an unsupervised anomaly detection approach. A convolutional autoencoder is trained solely on normal (label = 1) images to learn their structure. At test time, high reconstruction error is used to flag anomalous images.\n",
        "\n",
        "---\n",
        "\n",
        "## 📂 Dataset\n",
        "- Source: Kaggle - Soil Classification Part 2\n",
        "- Files:\n",
        "  - `train_labels.csv`: image_id + label (1 = normal, 0 = anomaly)\n",
        "  - `test_ids.csv`: image_id only\n",
        "  - `train/`, `test/`: image directories\n",
        "\n",
        "---\n",
        "\n",
        "## 🧹 Data Processing\n",
        "- Only label = 1 images used for training.\n",
        "- Images resized to 128×128 and converted to tensors using torchvision transforms.\n",
        "- Loaded using custom PyTorch Dataset + DataLoader.\n",
        "\n",
        "---\n",
        "\n",
        "## 🧠 Model Architecture\n",
        "A convolutional autoencoder:\n",
        "- **Encoder**: 3 conv layers to compress input\n",
        "- **Decoder**: 3 deconv layers to reconstruct the image\n",
        "\n",
        "```text\n",
        "Input → Conv → ReLU → Conv → ReLU → Conv → ReLU\n",
        "     → Deconv → ReLU → Deconv → ReLU → Deconv → Sigmoid → Output\n"
      ],
      "metadata": {
        "id": "WiIFP1SC0pGD"
      }
    },
    {
      "cell_type": "markdown",
      "source": [
        "## 🏋️ Training\n",
        "\n",
        "The autoencoder is trained to reconstruct only normal images (`label = 1`). It minimizes the pixel-wise **Mean Squared Error (MSE)** between input and output.\n",
        "\n",
        "- **Loss Function**: `nn.MSELoss()`\n",
        "- **Optimizer**: `torch.optim.Adam` with learning rate `1e-3`\n",
        "- **Epochs**: 20\n",
        "- **Batch Size**: 64"
      ],
      "metadata": {
        "id": "kRfnNk0W0r7S"
      }
    },
    {
      "cell_type": "markdown",
      "source": [
        "## 🧪 Evaluation Strategy\n",
        "\n",
        "After training, the model reconstructs test images. For each image, a reconstruction error is computed by comparing the original and reconstructed images. A threshold is then calculated as the mean plus two standard deviations of all reconstruction errors. Images with error above the threshold are labeled as anomalies (label = 0), and the rest as normal (label = 1).\n",
        "\n",
        "---\n",
        "\n",
        "## 📤 Submission\n",
        "\n",
        "The predicted labels are combined with the test image IDs into a DataFrame. This DataFrame is then saved in the required CSV format with two columns: `image_id` and `# label`.\n",
        "\n",
        "---\n",
        "\n",
        "## ✅ Conclusion\n",
        "\n",
        "This project demonstrates how convolutional autoencoders can be effectively used for anomaly detection in image data. By training exclusively on normal samples, the model learns to identify outliers based on reconstruction error, making it a practical solution for unsupervised image classification tasks."
      ],
      "metadata": {
        "id": "8zH6k2ov05vH"
      }
    }
  ]
}